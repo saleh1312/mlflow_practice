{
 "cells": [
  {
   "cell_type": "code",
   "execution_count": 2,
   "metadata": {},
   "outputs": [
    {
     "name": "stdout",
     "output_type": "stream",
     "text": [
      "d:\\mlops\\mlflow_practice\n"
     ]
    }
   ],
   "source": [
    "%cd ../"
   ]
  },
  {
   "cell_type": "code",
   "execution_count": 3,
   "metadata": {},
   "outputs": [],
   "source": [
    "import numpy as np\n",
    "import pandas as pd\n",
    "import json\n",
    "from sklearn.model_selection import train_test_split\n",
    "from sklearn.linear_model import LogisticRegression\n",
    "from sklearn.tree import DecisionTreeClassifier\n",
    "from sklearn.ensemble import RandomForestClassifier\n",
    "from sklearn.svm import SVC\n",
    "from sklearn.metrics import accuracy_score, classification_report\n",
    "import mlflow\n",
    "import numpy as np"
   ]
  },
  {
   "cell_type": "code",
   "execution_count": 4,
   "metadata": {},
   "outputs": [
    {
     "name": "stdout",
     "output_type": "stream",
     "text": [
      "this is pca data from raw\n"
     ]
    },
    {
     "data": {
      "text/html": [
       "<div>\n",
       "<style scoped>\n",
       "    .dataframe tbody tr th:only-of-type {\n",
       "        vertical-align: middle;\n",
       "    }\n",
       "\n",
       "    .dataframe tbody tr th {\n",
       "        vertical-align: top;\n",
       "    }\n",
       "\n",
       "    .dataframe thead th {\n",
       "        text-align: right;\n",
       "    }\n",
       "</style>\n",
       "<table border=\"1\" class=\"dataframe\">\n",
       "  <thead>\n",
       "    <tr style=\"text-align: right;\">\n",
       "      <th></th>\n",
       "      <th>0</th>\n",
       "      <th>1</th>\n",
       "      <th>2</th>\n",
       "      <th>target</th>\n",
       "    </tr>\n",
       "  </thead>\n",
       "  <tbody>\n",
       "    <tr>\n",
       "      <th>0</th>\n",
       "      <td>-2.264703</td>\n",
       "      <td>0.480027</td>\n",
       "      <td>0.127706</td>\n",
       "      <td>0</td>\n",
       "    </tr>\n",
       "    <tr>\n",
       "      <th>1</th>\n",
       "      <td>-2.080961</td>\n",
       "      <td>-0.674134</td>\n",
       "      <td>0.234609</td>\n",
       "      <td>0</td>\n",
       "    </tr>\n",
       "    <tr>\n",
       "      <th>2</th>\n",
       "      <td>-2.364229</td>\n",
       "      <td>-0.341908</td>\n",
       "      <td>-0.044201</td>\n",
       "      <td>0</td>\n",
       "    </tr>\n",
       "    <tr>\n",
       "      <th>3</th>\n",
       "      <td>-2.299384</td>\n",
       "      <td>-0.597395</td>\n",
       "      <td>-0.091290</td>\n",
       "      <td>0</td>\n",
       "    </tr>\n",
       "    <tr>\n",
       "      <th>4</th>\n",
       "      <td>-2.389842</td>\n",
       "      <td>0.646835</td>\n",
       "      <td>-0.015738</td>\n",
       "      <td>0</td>\n",
       "    </tr>\n",
       "  </tbody>\n",
       "</table>\n",
       "</div>"
      ],
      "text/plain": [
       "          0         1         2  target\n",
       "0 -2.264703  0.480027  0.127706       0\n",
       "1 -2.080961 -0.674134  0.234609       0\n",
       "2 -2.364229 -0.341908 -0.044201       0\n",
       "3 -2.299384 -0.597395 -0.091290       0\n",
       "4 -2.389842  0.646835 -0.015738       0"
      ]
     },
     "execution_count": 4,
     "metadata": {},
     "output_type": "execute_result"
    }
   ],
   "source": [
    "with open('assets/feature_store/pca_data.json', 'r') as f:\n",
    "    combined = json.load(f)\n",
    "    \n",
    "metadata = combined['metadata']\n",
    "print(metadata[\"description\"])\n",
    "data = combined['data']\n",
    "\n",
    "\n",
    "df = pd.DataFrame(data)\n",
    "df.head()"
   ]
  },
  {
   "cell_type": "code",
   "execution_count": 5,
   "metadata": {},
   "outputs": [],
   "source": [
    "x= df.drop(columns=[\"target\"])\n",
    "y= df[\"target\"]"
   ]
  },
  {
   "cell_type": "code",
   "execution_count": 6,
   "metadata": {},
   "outputs": [],
   "source": [
    "X_train, X_test, y_train, y_test = train_test_split(x, y, test_size=0.3, random_state=42)"
   ]
  },
  {
   "cell_type": "code",
   "execution_count": 7,
   "metadata": {},
   "outputs": [
    {
     "data": {
      "text/plain": [
       "(105, 3)"
      ]
     },
     "execution_count": 7,
     "metadata": {},
     "output_type": "execute_result"
    }
   ],
   "source": [
    "X_train.shape"
   ]
  },
  {
   "cell_type": "code",
   "execution_count": 8,
   "metadata": {},
   "outputs": [
    {
     "name": "stdout",
     "output_type": "stream",
     "text": [
      "{'prep': {'pca_comps_count': 3}, 'logistic_regression': {'C': 0.5}, 'desition_tree': {'max_depth': 3}}\n"
     ]
    }
   ],
   "source": [
    "from flowerClassification.config import config\n",
    "import flowerClassification.utils as utils"
   ]
  },
  {
   "cell_type": "code",
   "execution_count": 9,
   "metadata": {},
   "outputs": [
    {
     "data": {
      "text/plain": [
       "'c43ea1f053ddb6b21d195c6429b4fa818b2e5b9f'"
      ]
     },
     "execution_count": 9,
     "metadata": {},
     "output_type": "execute_result"
    }
   ],
   "source": [
    "current_branch = utils.get_current_branch()\n",
    "current_branch\n",
    "\n",
    "head_commit = utils.get_current_commit_id()\n",
    "head_commit"
   ]
  },
  {
   "cell_type": "code",
   "execution_count": 10,
   "metadata": {},
   "outputs": [
    {
     "data": {
      "text/plain": [
       "Box({'prep': {'pca_comps_count': 3}, 'logistic_regression': {'C': 0.5}, 'desition_tree': {'max_depth': 3}})"
      ]
     },
     "execution_count": 10,
     "metadata": {},
     "output_type": "execute_result"
    }
   ],
   "source": [
    "config"
   ]
  },
  {
   "cell_type": "code",
   "execution_count": 11,
   "metadata": {},
   "outputs": [],
   "source": [
    "# Initialize the models\n",
    "log_reg = LogisticRegression(C = config.logistic_regression.C)\n",
    "dec_tree = DecisionTreeClassifier(max_depth = config.desition_tree.max_depth )\n",
    "\n",
    "# Predict and evaluate the models\n",
    "models = {\n",
    "    'Logistic Regression': log_reg,\n",
    "    'Decision Tree': dec_tree\n",
    "}"
   ]
  },
  {
   "cell_type": "code",
   "execution_count": 12,
   "metadata": {},
   "outputs": [
    {
     "name": "stdout",
     "output_type": "stream",
     "text": [
      "{'0': {'precision': 1.0, 'recall': 1.0, 'f1-score': 1.0, 'support': 19.0}, '1': {'precision': 1.0, 'recall': 1.0, 'f1-score': 1.0, 'support': 13.0}, '2': {'precision': 1.0, 'recall': 1.0, 'f1-score': 1.0, 'support': 13.0}, 'accuracy': 1.0, 'macro avg': {'precision': 1.0, 'recall': 1.0, 'f1-score': 1.0, 'support': 45.0}, 'weighted avg': {'precision': 1.0, 'recall': 1.0, 'f1-score': 1.0, 'support': 45.0}}\n",
      "Model: Logistic Regression\n",
      "Accuracy: 1.0\n",
      "Classification Report:\n",
      "               precision    recall  f1-score   support\n",
      "\n",
      "           0       1.00      1.00      1.00        19\n",
      "           1       1.00      1.00      1.00        13\n",
      "           2       1.00      1.00      1.00        13\n",
      "\n",
      "    accuracy                           1.00        45\n",
      "   macro avg       1.00      1.00      1.00        45\n",
      "weighted avg       1.00      1.00      1.00        45\n",
      "\n",
      "------------------------------------------------------------\n",
      "{'0': {'precision': 1.0, 'recall': 1.0, 'f1-score': 1.0, 'support': 19.0}, '1': {'precision': 0.9166666666666666, 'recall': 0.8461538461538461, 'f1-score': 0.88, 'support': 13.0}, '2': {'precision': 0.8571428571428571, 'recall': 0.9230769230769231, 'f1-score': 0.8888888888888888, 'support': 13.0}, 'accuracy': 0.9333333333333333, 'macro avg': {'precision': 0.9246031746031745, 'recall': 0.923076923076923, 'f1-score': 0.9229629629629629, 'support': 45.0}, 'weighted avg': {'precision': 0.9346560846560846, 'recall': 0.9333333333333333, 'f1-score': 0.9332345679012346, 'support': 45.0}}\n",
      "Model: Decision Tree\n",
      "Accuracy: 0.9333333333333333\n",
      "Classification Report:\n",
      "               precision    recall  f1-score   support\n",
      "\n",
      "           0       1.00      1.00      1.00        19\n",
      "           1       0.92      0.85      0.88        13\n",
      "           2       0.86      0.92      0.89        13\n",
      "\n",
      "    accuracy                           0.93        45\n",
      "   macro avg       0.92      0.92      0.92        45\n",
      "weighted avg       0.93      0.93      0.93        45\n",
      "\n",
      "------------------------------------------------------------\n"
     ]
    }
   ],
   "source": [
    "mlflow.set_experiment(\"flowerClassification\")\n",
    "\n",
    "\n",
    "scores={\n",
    "    \n",
    "}\n",
    "\n",
    "for model_name, model in models.items():\n",
    "    model.fit(X_train,y_train)\n",
    "    y_pred = model.predict(X_test)\n",
    "    report = classification_report(y_test, y_pred, output_dict=True)\n",
    "    accuracy = report['accuracy']\n",
    "    f1_score = report['weighted avg'][\"f1-score\"]\n",
    "    \n",
    "    scores={\n",
    "        **scores,\n",
    "        f\"{model_name}_accuracy\":accuracy,\n",
    "        f\"{model_name}_f1_score\":f1_score\n",
    "    }\n",
    "    \n",
    "    print(report)    \n",
    "    print(f\"Model: {model_name}\")\n",
    "    print(\"Accuracy:\", accuracy_score(y_test, y_pred))\n",
    "    print(\"Classification Report:\\n\", classification_report(y_test, y_pred))\n",
    "    print(\"-\" * 60)\n",
    "\n"
   ]
  },
  {
   "cell_type": "code",
   "execution_count": 13,
   "metadata": {},
   "outputs": [],
   "source": [
    "params = {\n",
    "    \"pca_comps\" : config.prep.pca_comps_count,\n",
    "    \"lr_C\":config.logistic_regression.C,\n",
    "    \"desition_tree_max_depth\":config.desition_tree.max_depth\n",
    "}"
   ]
  },
  {
   "cell_type": "code",
   "execution_count": 14,
   "metadata": {},
   "outputs": [
    {
     "data": {
      "text/plain": [
       "{'Logistic Regression_accuracy': 1.0,\n",
       " 'Logistic Regression_f1_score': 1.0,\n",
       " 'Decision Tree_accuracy': 0.9333333333333333,\n",
       " 'Decision Tree_f1_score': 0.9332345679012346}"
      ]
     },
     "execution_count": 14,
     "metadata": {},
     "output_type": "execute_result"
    }
   ],
   "source": [
    "scores"
   ]
  },
  {
   "cell_type": "code",
   "execution_count": 15,
   "metadata": {},
   "outputs": [
    {
     "data": {
      "text/plain": [
       "('main', 'c43ea1f053ddb6b21d195c6429b4fa818b2e5b9f')"
      ]
     },
     "execution_count": 15,
     "metadata": {},
     "output_type": "execute_result"
    }
   ],
   "source": [
    "current_branch,head_commit"
   ]
  },
  {
   "cell_type": "code",
   "execution_count": 16,
   "metadata": {},
   "outputs": [],
   "source": [
    "tags={\"branch\":current_branch , 'commit_id':head_commit}"
   ]
  },
  {
   "cell_type": "code",
   "execution_count": 17,
   "metadata": {},
   "outputs": [],
   "source": [
    "with open('artifacts/pipelines_scores.json', 'w') as json_file:\n",
    "    json.dump(scores, json_file, indent=4)\n",
    "    \n",
    "with open('artifacts/pipelines_params.json', 'w') as json_file:\n",
    "    json.dump(params, json_file, indent=4)\n",
    "    \n",
    "with open('artifacts/pipelines_info.json', 'w') as json_file:\n",
    "    json.dump(tags, json_file, indent=4)"
   ]
  },
  {
   "cell_type": "code",
   "execution_count": 18,
   "metadata": {},
   "outputs": [],
   "source": [
    "with mlflow.start_run(run_name=\"koko\",tags=tags) as run:\n",
    "    mlflow.log_params(params)\n",
    "    mlflow.log_metrics(scores)\n",
    "    mlflow.log_artifacts(local_dir=\"artifacts\")"
   ]
  },
  {
   "cell_type": "code",
   "execution_count": null,
   "metadata": {},
   "outputs": [],
   "source": []
  }
 ],
 "metadata": {
  "kernelspec": {
   "display_name": "mlops",
   "language": "python",
   "name": "python3"
  },
  "language_info": {
   "codemirror_mode": {
    "name": "ipython",
    "version": 3
   },
   "file_extension": ".py",
   "mimetype": "text/x-python",
   "name": "python",
   "nbconvert_exporter": "python",
   "pygments_lexer": "ipython3",
   "version": "3.10.14"
  }
 },
 "nbformat": 4,
 "nbformat_minor": 2
}
