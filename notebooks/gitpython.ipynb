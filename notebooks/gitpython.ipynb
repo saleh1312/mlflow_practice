{
 "cells": [
  {
   "cell_type": "code",
   "execution_count": 2,
   "metadata": {},
   "outputs": [
    {
     "name": "stdout",
     "output_type": "stream",
     "text": [
      "d:\\mlops\\mlflow_practice\n"
     ]
    }
   ],
   "source": [
    "%cd ../"
   ]
  },
  {
   "cell_type": "code",
   "execution_count": 3,
   "metadata": {},
   "outputs": [
    {
     "name": "stdout",
     "output_type": "stream",
     "text": [
      "Error: Reference at 'refs/heads/main' does not exist\n",
      "Current branch: main\n",
      "Could not determine the current commit ID.\n"
     ]
    }
   ],
   "source": [
    "import git\n",
    "\n",
    "def get_current_branch(repo_path='.'):\n",
    "    try:\n",
    "        repo = git.Repo(repo_path)\n",
    "        branch = repo.active_branch.name\n",
    "        return branch\n",
    "    except Exception as e:\n",
    "        print(f\"Error: {e}\")\n",
    "        return None\n",
    "\n",
    "def get_current_commit_id(repo_path='.'):\n",
    "    try:\n",
    "        repo = git.Repo(repo_path)\n",
    "        commit_id = repo.head.commit.hexsha\n",
    "        return commit_id\n",
    "    except Exception as e:\n",
    "        print(f\"Error: {e}\")\n",
    "        return None\n",
    "\n",
    "if __name__ == \"__main__\":\n",
    "    branch = get_current_branch()\n",
    "    commit_id = get_current_commit_id()\n",
    "\n",
    "    if branch:\n",
    "        print(f\"Current branch: {branch}\")\n",
    "    else:\n",
    "        print(\"Could not determine the current branch.\")\n",
    "\n",
    "    if commit_id:\n",
    "        print(f\"Current commit ID: {commit_id}\")\n",
    "    else:\n",
    "        print(\"Could not determine the current commit ID.\")\n"
   ]
  }
 ],
 "metadata": {
  "kernelspec": {
   "display_name": "mlops",
   "language": "python",
   "name": "python3"
  },
  "language_info": {
   "codemirror_mode": {
    "name": "ipython",
    "version": 3
   },
   "file_extension": ".py",
   "mimetype": "text/x-python",
   "name": "python",
   "nbconvert_exporter": "python",
   "pygments_lexer": "ipython3",
   "version": "3.10.14"
  }
 },
 "nbformat": 4,
 "nbformat_minor": 2
}
